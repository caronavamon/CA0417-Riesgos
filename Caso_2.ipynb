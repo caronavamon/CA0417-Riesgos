{
  "cells": [
    {
      "cell_type": "markdown",
      "metadata": {
        "id": "i6zWbPBc_fQE"
      },
      "source": [
        "# María Carolina Navarro Monge\n",
        "# Caso 2"
      ]
    },
    {
      "cell_type": "markdown",
      "metadata": {
        "id": "-IVPouZO_fQH"
      },
      "source": [
        "## Un portafolio de inversión consiste de 1000 acciones de Microsoft. Use el enfoque paramétrico para estimar el riesgo del portafolio a través del VaR y el ES . Compare los resultados cuando se emplean los métodos siguientes para calcular la volatilidad: el estimador clásico insesgado, el estimador EWMA y el estimador GARCH."
      ]
    },
    {
      "cell_type": "code",
      "execution_count": 1,
      "metadata": {
        "colab": {
          "base_uri": "https://localhost:8080/",
          "height": 339
        },
        "id": "MTrekASy_fQH",
        "outputId": "6437ea6a-fecf-4a83-d004-6e458ca9af1f"
      },
      "outputs": [
        {
          "output_type": "error",
          "ename": "FileNotFoundError",
          "evalue": "[Errno 2] No such file or directory: 'MSFT.csv'",
          "traceback": [
            "\u001b[0;31m---------------------------------------------------------------------------\u001b[0m",
            "\u001b[0;31mFileNotFoundError\u001b[0m                         Traceback (most recent call last)",
            "\u001b[0;32m<ipython-input-1-7c2d99f11ad9>\u001b[0m in \u001b[0;36m<cell line: 5>\u001b[0;34m()\u001b[0m\n\u001b[1;32m      3\u001b[0m \u001b[0;32mimport\u001b[0m \u001b[0mpandas\u001b[0m \u001b[0;32mas\u001b[0m \u001b[0mpd\u001b[0m\u001b[0;34m\u001b[0m\u001b[0;34m\u001b[0m\u001b[0m\n\u001b[1;32m      4\u001b[0m \u001b[0;34m\u001b[0m\u001b[0m\n\u001b[0;32m----> 5\u001b[0;31m \u001b[0mMicrosoft\u001b[0m \u001b[0;34m=\u001b[0m  \u001b[0mpd\u001b[0m\u001b[0;34m.\u001b[0m\u001b[0mread_csv\u001b[0m\u001b[0;34m(\u001b[0m\u001b[0;34mr'MSFT.csv'\u001b[0m\u001b[0;34m)\u001b[0m\u001b[0;34m\u001b[0m\u001b[0;34m\u001b[0m\u001b[0m\n\u001b[0m",
            "\u001b[0;32m/usr/local/lib/python3.10/dist-packages/pandas/io/parsers/readers.py\u001b[0m in \u001b[0;36mread_csv\u001b[0;34m(filepath_or_buffer, sep, delimiter, header, names, index_col, usecols, dtype, engine, converters, true_values, false_values, skipinitialspace, skiprows, skipfooter, nrows, na_values, keep_default_na, na_filter, verbose, skip_blank_lines, parse_dates, infer_datetime_format, keep_date_col, date_parser, date_format, dayfirst, cache_dates, iterator, chunksize, compression, thousands, decimal, lineterminator, quotechar, quoting, doublequote, escapechar, comment, encoding, encoding_errors, dialect, on_bad_lines, delim_whitespace, low_memory, memory_map, float_precision, storage_options, dtype_backend)\u001b[0m\n\u001b[1;32m    946\u001b[0m     \u001b[0mkwds\u001b[0m\u001b[0;34m.\u001b[0m\u001b[0mupdate\u001b[0m\u001b[0;34m(\u001b[0m\u001b[0mkwds_defaults\u001b[0m\u001b[0;34m)\u001b[0m\u001b[0;34m\u001b[0m\u001b[0;34m\u001b[0m\u001b[0m\n\u001b[1;32m    947\u001b[0m \u001b[0;34m\u001b[0m\u001b[0m\n\u001b[0;32m--> 948\u001b[0;31m     \u001b[0;32mreturn\u001b[0m \u001b[0m_read\u001b[0m\u001b[0;34m(\u001b[0m\u001b[0mfilepath_or_buffer\u001b[0m\u001b[0;34m,\u001b[0m \u001b[0mkwds\u001b[0m\u001b[0;34m)\u001b[0m\u001b[0;34m\u001b[0m\u001b[0;34m\u001b[0m\u001b[0m\n\u001b[0m\u001b[1;32m    949\u001b[0m \u001b[0;34m\u001b[0m\u001b[0m\n\u001b[1;32m    950\u001b[0m \u001b[0;34m\u001b[0m\u001b[0m\n",
            "\u001b[0;32m/usr/local/lib/python3.10/dist-packages/pandas/io/parsers/readers.py\u001b[0m in \u001b[0;36m_read\u001b[0;34m(filepath_or_buffer, kwds)\u001b[0m\n\u001b[1;32m    609\u001b[0m \u001b[0;34m\u001b[0m\u001b[0m\n\u001b[1;32m    610\u001b[0m     \u001b[0;31m# Create the parser.\u001b[0m\u001b[0;34m\u001b[0m\u001b[0;34m\u001b[0m\u001b[0m\n\u001b[0;32m--> 611\u001b[0;31m     \u001b[0mparser\u001b[0m \u001b[0;34m=\u001b[0m \u001b[0mTextFileReader\u001b[0m\u001b[0;34m(\u001b[0m\u001b[0mfilepath_or_buffer\u001b[0m\u001b[0;34m,\u001b[0m \u001b[0;34m**\u001b[0m\u001b[0mkwds\u001b[0m\u001b[0;34m)\u001b[0m\u001b[0;34m\u001b[0m\u001b[0;34m\u001b[0m\u001b[0m\n\u001b[0m\u001b[1;32m    612\u001b[0m \u001b[0;34m\u001b[0m\u001b[0m\n\u001b[1;32m    613\u001b[0m     \u001b[0;32mif\u001b[0m \u001b[0mchunksize\u001b[0m \u001b[0;32mor\u001b[0m \u001b[0miterator\u001b[0m\u001b[0;34m:\u001b[0m\u001b[0;34m\u001b[0m\u001b[0;34m\u001b[0m\u001b[0m\n",
            "\u001b[0;32m/usr/local/lib/python3.10/dist-packages/pandas/io/parsers/readers.py\u001b[0m in \u001b[0;36m__init__\u001b[0;34m(self, f, engine, **kwds)\u001b[0m\n\u001b[1;32m   1446\u001b[0m \u001b[0;34m\u001b[0m\u001b[0m\n\u001b[1;32m   1447\u001b[0m         \u001b[0mself\u001b[0m\u001b[0;34m.\u001b[0m\u001b[0mhandles\u001b[0m\u001b[0;34m:\u001b[0m \u001b[0mIOHandles\u001b[0m \u001b[0;34m|\u001b[0m \u001b[0;32mNone\u001b[0m \u001b[0;34m=\u001b[0m \u001b[0;32mNone\u001b[0m\u001b[0;34m\u001b[0m\u001b[0;34m\u001b[0m\u001b[0m\n\u001b[0;32m-> 1448\u001b[0;31m         \u001b[0mself\u001b[0m\u001b[0;34m.\u001b[0m\u001b[0m_engine\u001b[0m \u001b[0;34m=\u001b[0m \u001b[0mself\u001b[0m\u001b[0;34m.\u001b[0m\u001b[0m_make_engine\u001b[0m\u001b[0;34m(\u001b[0m\u001b[0mf\u001b[0m\u001b[0;34m,\u001b[0m \u001b[0mself\u001b[0m\u001b[0;34m.\u001b[0m\u001b[0mengine\u001b[0m\u001b[0;34m)\u001b[0m\u001b[0;34m\u001b[0m\u001b[0;34m\u001b[0m\u001b[0m\n\u001b[0m\u001b[1;32m   1449\u001b[0m \u001b[0;34m\u001b[0m\u001b[0m\n\u001b[1;32m   1450\u001b[0m     \u001b[0;32mdef\u001b[0m \u001b[0mclose\u001b[0m\u001b[0;34m(\u001b[0m\u001b[0mself\u001b[0m\u001b[0;34m)\u001b[0m \u001b[0;34m->\u001b[0m \u001b[0;32mNone\u001b[0m\u001b[0;34m:\u001b[0m\u001b[0;34m\u001b[0m\u001b[0;34m\u001b[0m\u001b[0m\n",
            "\u001b[0;32m/usr/local/lib/python3.10/dist-packages/pandas/io/parsers/readers.py\u001b[0m in \u001b[0;36m_make_engine\u001b[0;34m(self, f, engine)\u001b[0m\n\u001b[1;32m   1703\u001b[0m                 \u001b[0;32mif\u001b[0m \u001b[0;34m\"b\"\u001b[0m \u001b[0;32mnot\u001b[0m \u001b[0;32min\u001b[0m \u001b[0mmode\u001b[0m\u001b[0;34m:\u001b[0m\u001b[0;34m\u001b[0m\u001b[0;34m\u001b[0m\u001b[0m\n\u001b[1;32m   1704\u001b[0m                     \u001b[0mmode\u001b[0m \u001b[0;34m+=\u001b[0m \u001b[0;34m\"b\"\u001b[0m\u001b[0;34m\u001b[0m\u001b[0;34m\u001b[0m\u001b[0m\n\u001b[0;32m-> 1705\u001b[0;31m             self.handles = get_handle(\n\u001b[0m\u001b[1;32m   1706\u001b[0m                 \u001b[0mf\u001b[0m\u001b[0;34m,\u001b[0m\u001b[0;34m\u001b[0m\u001b[0;34m\u001b[0m\u001b[0m\n\u001b[1;32m   1707\u001b[0m                 \u001b[0mmode\u001b[0m\u001b[0;34m,\u001b[0m\u001b[0;34m\u001b[0m\u001b[0;34m\u001b[0m\u001b[0m\n",
            "\u001b[0;32m/usr/local/lib/python3.10/dist-packages/pandas/io/common.py\u001b[0m in \u001b[0;36mget_handle\u001b[0;34m(path_or_buf, mode, encoding, compression, memory_map, is_text, errors, storage_options)\u001b[0m\n\u001b[1;32m    861\u001b[0m         \u001b[0;32mif\u001b[0m \u001b[0mioargs\u001b[0m\u001b[0;34m.\u001b[0m\u001b[0mencoding\u001b[0m \u001b[0;32mand\u001b[0m \u001b[0;34m\"b\"\u001b[0m \u001b[0;32mnot\u001b[0m \u001b[0;32min\u001b[0m \u001b[0mioargs\u001b[0m\u001b[0;34m.\u001b[0m\u001b[0mmode\u001b[0m\u001b[0;34m:\u001b[0m\u001b[0;34m\u001b[0m\u001b[0;34m\u001b[0m\u001b[0m\n\u001b[1;32m    862\u001b[0m             \u001b[0;31m# Encoding\u001b[0m\u001b[0;34m\u001b[0m\u001b[0;34m\u001b[0m\u001b[0m\n\u001b[0;32m--> 863\u001b[0;31m             handle = open(\n\u001b[0m\u001b[1;32m    864\u001b[0m                 \u001b[0mhandle\u001b[0m\u001b[0;34m,\u001b[0m\u001b[0;34m\u001b[0m\u001b[0;34m\u001b[0m\u001b[0m\n\u001b[1;32m    865\u001b[0m                 \u001b[0mioargs\u001b[0m\u001b[0;34m.\u001b[0m\u001b[0mmode\u001b[0m\u001b[0;34m,\u001b[0m\u001b[0;34m\u001b[0m\u001b[0;34m\u001b[0m\u001b[0m\n",
            "\u001b[0;31mFileNotFoundError\u001b[0m: [Errno 2] No such file or directory: 'MSFT.csv'"
          ]
        }
      ],
      "source": [
        "# se carga la base de datos\n",
        "\n",
        "import pandas as pd\n",
        "\n",
        "Microsoft =  pd.read_csv(r'MSFT.csv')"
      ]
    },
    {
      "cell_type": "code",
      "execution_count": null,
      "metadata": {
        "id": "3F2qG8UV_fQI",
        "outputId": "75850000-04eb-470a-8d56-69b7f64a07e3"
      },
      "outputs": [
        {
          "data": {
            "text/plain": [
              "0           NaN\n",
              "1     -0.030018\n",
              "2     -0.001392\n",
              "3      0.017381\n",
              "4     -0.007163\n",
              "         ...   \n",
              "122    0.000846\n",
              "123   -0.007860\n",
              "124    0.006119\n",
              "125    0.009684\n",
              "126   -0.018632\n",
              "Name: Close, Length: 127, dtype: float64"
            ]
          },
          "execution_count": 74,
          "metadata": {},
          "output_type": "execute_result"
        }
      ],
      "source": [
        "import numpy as np\n",
        "#se obtienen los rendimientos\n",
        "\n",
        "Rendimientos_M = np.log(Microsoft[\"Close\"] / Microsoft[\"Close\"].shift(1))\n",
        "Rendimientos_M"
      ]
    },
    {
      "cell_type": "markdown",
      "metadata": {
        "id": "qJBJ_EtH_fQJ"
      },
      "source": [
        "## Cálculo VaR y ES"
      ]
    },
    {
      "cell_type": "markdown",
      "metadata": {
        "id": "E-Rtwtb7_fQJ"
      },
      "source": [
        "Suponiendo que los rendimientos poseen una distribución normal, el VaR y ES se obtienen a partir de las siguientes fórmulas\n",
        "\n",
        "$$VaR = \\mu_L + z_\\alpha\\cdot\\sigma_L$$\n",
        "$$ES = \\mu_L + \\sigma\\cdot\\dfrac{\\exp(\\dfrac{-z^2_\\alpha}{2})}{\\sqrt(2\\pi)(1-\\alpha)}$$\n",
        "\n",
        "\n",
        "donde $\\mu_L = -V_t\\cdot\\mu_{R_{t+1}}$, $\\sigma_L = V_t\\cdot\\sigma_{R_{t+1}}$, $V_t=N\\cdot S_t$, $z_\\alpha = \\Phi^{-1}(\\alpha)$\n",
        "\n",
        "\n",
        "Se calcularán el VarR y ES al 95%.\n",
        "\n",
        "Se obtendrá la media y desviación de los rendimientos empleando una ventana móvil de 30 y 60 para comparar los resultados."
      ]
    },
    {
      "cell_type": "markdown",
      "metadata": {
        "id": "3qrQUE6a_fQJ"
      },
      "source": [
        "### Caso 1: estimador insesgado usual\n",
        "\n",
        "$$\\mu_R = \\dfrac{1}{m}\\sum_{i = 1}^m R_{t-i}$$\n",
        "$$\\sigma^2_R = \\dfrac{1}{m}\\sum_{i = 1}^m (R_{t-i}-\\mu_R)^2$$"
      ]
    },
    {
      "cell_type": "code",
      "execution_count": null,
      "metadata": {
        "id": "ImJI-ctT_fQJ",
        "outputId": "25d491f9-83a0-4001-f536-2abc5985c721"
      },
      "outputs": [
        {
          "name": "stdout",
          "output_type": "stream",
          "text": [
            "-0.0026214649303594718\n",
            "-0.0006028119280967327\n",
            "-0.0001055189253870471\n"
          ]
        }
      ],
      "source": [
        "#se define una ventana móvil para el cálculo de la media y la varianza de los rendimientos\n",
        "M_media_30_caso1 = Rendimientos_M.rolling(30).mean()\n",
        "M_media_60_caso1 = Rendimientos_M.rolling(60).mean()\n",
        "M_media_caso1 = Rendimientos_M.mean()\n",
        "print(M_media_30_caso1.iloc[-1])\n",
        "print(M_media_60_caso1.iloc[-1])\n",
        "print(M_media_caso1)"
      ]
    },
    {
      "cell_type": "code",
      "execution_count": null,
      "metadata": {
        "id": "a4dUATEM_fQK",
        "outputId": "8f15583e-aeb2-4217-e8df-27a49a621a8a"
      },
      "outputs": [
        {
          "name": "stdout",
          "output_type": "stream",
          "text": [
            "0.014068745951918187\n",
            "0.012618386981224404\n",
            "0.012838045221790764\n"
          ]
        }
      ],
      "source": [
        "M_std_30_caso1 = Rendimientos_M.rolling(30).std()\n",
        "M_std_60_caso1 = Rendimientos_M.rolling(60).std()\n",
        "M_std_caso1 = Rendimientos_M.std()\n",
        "print(M_std_30_caso1.iloc[-1])\n",
        "print(M_std_60_caso1.iloc[-1])\n",
        "print(M_std_caso1)"
      ]
    },
    {
      "cell_type": "code",
      "execution_count": null,
      "metadata": {
        "id": "UdH-qfKd_fQK",
        "outputId": "62782846-301f-4cd7-81ae-b3773a57b146"
      },
      "outputs": [
        {
          "name": "stdout",
          "output_type": "stream",
          "text": [
            "1.6448536269514722\n"
          ]
        }
      ],
      "source": [
        "from scipy.stats import norm\n",
        "\n",
        "alpha = 0.95\n",
        "\n",
        "#cuantil\n",
        "z = norm.ppf(0.95)\n",
        "print(z)"
      ]
    },
    {
      "cell_type": "code",
      "execution_count": null,
      "metadata": {
        "id": "Ej0XxYG5_fQK",
        "outputId": "75838d07-6ca6-42d1-a75f-553d62d4a6ea"
      },
      "outputs": [
        {
          "name": "stdout",
          "output_type": "stream",
          "text": [
            "409440.002\n"
          ]
        }
      ],
      "source": [
        "# Monto actual de inversión\n",
        "V_t_M = 1000*Microsoft[\"Close\"].iloc[-1]\n",
        "print(V_t_M)"
      ]
    },
    {
      "cell_type": "code",
      "execution_count": null,
      "metadata": {
        "id": "46aI0kW6_fQL",
        "outputId": "35d7275e-c68c-421e-de63-f3a1c3d5c972"
      },
      "outputs": [
        {
          "name": "stdout",
          "output_type": "stream",
          "text": [
            "-5760.307370690874\n",
            "-5166.4723908292935\n",
            "43.203669021510414\n"
          ]
        }
      ],
      "source": [
        "#Media pérdidas\n",
        "\n",
        "M_media_perdidas_30_caso1 = -V_t_M*M_media_30_caso1\n",
        "M_media_perdidas_60_caso1 = -V_t_M*M_media_60_caso1\n",
        "M_media_perdidas_caso1 = -V_t_M*M_media_caso1\n",
        "print(M_media_perdidas_30_caso1.iloc[-1])\n",
        "print(M_media_perdidas_60_caso1.iloc[-1])\n",
        "print(M_media_perdidas_caso1)"
      ]
    },
    {
      "cell_type": "code",
      "execution_count": null,
      "metadata": {
        "id": "4drDeLFC_fQL",
        "outputId": "1d6ae205-6ddf-4ff8-b33e-cc3f477f99e3"
      },
      "outputs": [
        {
          "name": "stdout",
          "output_type": "stream",
          "text": [
            "5760.307370690874\n",
            "5166.4723908292935\n",
            "5256.4092612861\n"
          ]
        }
      ],
      "source": [
        "# Desviación pérdidas\n",
        "M_desviacion_30_caso1 = V_t_M*M_std_30_caso1\n",
        "M_desviacion_60_caso1 = V_t_M*M_std_60_caso1\n",
        "M_desviacion_caso1 = V_t_M*M_std_caso1\n",
        "print(M_desviacion_30_caso1.iloc[-1])\n",
        "print(M_desviacion_60_caso1.iloc[-1])\n",
        "print(M_desviacion_caso1)"
      ]
    },
    {
      "cell_type": "code",
      "execution_count": null,
      "metadata": {
        "id": "cfjdjAvW_fQL",
        "outputId": "2835435d-460e-4b2d-a5e2-21c02f6f844f"
      },
      "outputs": [
        {
          "name": "stdout",
          "output_type": "stream",
          "text": [
            "3714.5551003453093\n",
            "3331.6184597709134\n",
            "8689.227507189262\n"
          ]
        }
      ],
      "source": [
        "#VaR\n",
        "M_VaR_30_caso1 = M_media_perdidas_30_caso1 + z*M_desviacion_30_caso1\n",
        "M_VaR_60_caso1 = M_media_perdidas_60_caso1 + z*M_desviacion_60_caso1\n",
        "M_VaR_caso1 = M_media_perdidas_caso1 +z*M_desviacion_caso1\n",
        "print(M_VaR_30_caso1.iloc[-1])\n",
        "print(M_VaR_60_caso1.iloc[-1])\n",
        "print(M_VaR_caso1)\n",
        "\n"
      ]
    },
    {
      "cell_type": "code",
      "execution_count": null,
      "metadata": {
        "id": "mV9UURxG_fQM",
        "outputId": "b3050a8d-2f16-4361-803f-452a79b2729b"
      },
      "outputs": [
        {
          "name": "stdout",
          "output_type": "stream",
          "text": [
            "-5760.278350908414\n",
            "-5166.446362720857\n",
            "43.230150221812764\n"
          ]
        }
      ],
      "source": [
        "#ES\n",
        "M_ES_30_caso1 = M_media_perdidas_30_caso1 + M_std_30_caso1 * (np.exp(-z**2 / 2) / (np.sqrt(2 * np.pi) * (1 - alpha)))\n",
        "M_ES_60_caso1 = M_media_perdidas_60_caso1 + M_std_60_caso1 * (np.exp(-z**2 / 2) / (np.sqrt(2 * np.pi) * (1 - alpha)))\n",
        "M_ES_caso1 = M_media_perdidas_caso1 + M_std_caso1 * (np.exp(-z**2 / 2) / (np.sqrt(2 * np.pi) * (1 - alpha)))\n",
        "print(M_ES_30_caso1.iloc[-1])\n",
        "print(M_ES_60_caso1.iloc[-1])\n",
        "print(M_ES_caso1)"
      ]
    },
    {
      "cell_type": "markdown",
      "metadata": {
        "id": "y9XnYAJ4_fQM"
      },
      "source": [
        "### Caso 2: Estimador EWMA"
      ]
    },
    {
      "cell_type": "markdown",
      "metadata": {
        "id": "_hy3y4gV_fQM"
      },
      "source": [
        "$$\\sigma^2_R = \\dfrac{1-\\lambda}{1-\\lambda^m}\\sum_{i = 1}^m \\lambda^{i-1}(R_{t-i}-\\mu_R)^2$$"
      ]
    },
    {
      "cell_type": "code",
      "execution_count": null,
      "metadata": {
        "id": "tdNuXw-w_fQM",
        "outputId": "56377fad-1327-4cd7-a536-9f8c931b1911"
      },
      "outputs": [
        {
          "name": "stdout",
          "output_type": "stream",
          "text": [
            "-0.0017169462719957432\n",
            "0.011821083931285555\n"
          ]
        }
      ],
      "source": [
        "M_media_caso2 = Rendimientos_M.ewm(span=20,adjust=False).mean()\n",
        "M_std_caso2 = Rendimientos_M.ewm(span=20,adjust=False).std()\n",
        "print(M_media_caso2.iloc[-1])\n",
        "print(M_std_caso2.iloc[-1])\n"
      ]
    },
    {
      "cell_type": "code",
      "execution_count": null,
      "metadata": {
        "id": "z1uQOHoK_fQM",
        "outputId": "9792c650-6983-4d37-d374-8bc85e6f176d"
      },
      "outputs": [
        {
          "name": "stdout",
          "output_type": "stream",
          "text": [
            "702.9864850398296\n"
          ]
        }
      ],
      "source": [
        "# Media pérdidas\n",
        "\n",
        "M_media_perdidas_caso2= -V_t_M*M_media_caso2\n",
        "print(M_media_perdidas_caso2.iloc[-1])\n"
      ]
    },
    {
      "cell_type": "code",
      "execution_count": null,
      "metadata": {
        "id": "10Yf6CGm_fQN",
        "outputId": "5a2fd12d-2aef-4263-d353-ab5b2ca9b97c"
      },
      "outputs": [
        {
          "name": "stdout",
          "output_type": "stream",
          "text": [
            "4840.024628467725\n"
          ]
        }
      ],
      "source": [
        "# Desviación pérdidas\n",
        "M_desviacion_caso2 = V_t_M*M_std_caso2\n",
        "print(M_desviacion_caso2.iloc[-1])"
      ]
    },
    {
      "cell_type": "code",
      "execution_count": null,
      "metadata": {
        "id": "-Y3gRQTy_fQN",
        "outputId": "8b1e9c16-2170-4bb8-f558-4dd2961d11b2"
      },
      "outputs": [
        {
          "name": "stdout",
          "output_type": "stream",
          "text": [
            "8664.11854970942\n"
          ]
        }
      ],
      "source": [
        "#VaR\n",
        "M_VaR_caso2 = M_media_perdidas_caso2+ z*M_desviacion_caso2\n",
        "print(M_VaR_caso2.iloc[-1])"
      ]
    },
    {
      "cell_type": "code",
      "execution_count": null,
      "metadata": {
        "id": "5j-8BYDL_fQN",
        "outputId": "cc4cc817-f4bd-42e5-9158-714484150fc4"
      },
      "outputs": [
        {
          "name": "stdout",
          "output_type": "stream",
          "text": [
            "29.050983278026713\n"
          ]
        }
      ],
      "source": [
        "#ES\n",
        "M_ES_caso2 = M_media_perdidas_caso2 + M_std_caso2 * (np.exp(-z**2 / 2) / (np.sqrt(2 * np.pi) * (1 - alpha)))\n",
        "print(ES.iloc[-1])"
      ]
    },
    {
      "cell_type": "markdown",
      "metadata": {
        "id": "cObegCdP_fQN"
      },
      "source": [
        "### Caso 3: GARCH(1,1)"
      ]
    },
    {
      "cell_type": "code",
      "execution_count": null,
      "metadata": {
        "id": "9-WMS4Nd_fQN",
        "outputId": "5a513227-e052-444e-8391-7c861cbe3736"
      },
      "outputs": [
        {
          "name": "stdout",
          "output_type": "stream",
          "text": [
            "Requirement already satisfied: arch in /usr/local/python/3.12.1/lib/python3.12/site-packages (7.0.0)\n",
            "Requirement already satisfied: numpy>=1.22.3 in /home/codespace/.local/lib/python3.12/site-packages (from arch) (2.0.1)\n",
            "Requirement already satisfied: scipy>=1.8 in /home/codespace/.local/lib/python3.12/site-packages (from arch) (1.14.0)\n",
            "Requirement already satisfied: pandas>=1.4 in /home/codespace/.local/lib/python3.12/site-packages (from arch) (2.2.2)\n",
            "Requirement already satisfied: statsmodels>=0.12 in /usr/local/python/3.12.1/lib/python3.12/site-packages (from arch) (0.14.2)\n",
            "Requirement already satisfied: python-dateutil>=2.8.2 in /home/codespace/.local/lib/python3.12/site-packages (from pandas>=1.4->arch) (2.9.0.post0)\n",
            "Requirement already satisfied: pytz>=2020.1 in /home/codespace/.local/lib/python3.12/site-packages (from pandas>=1.4->arch) (2024.1)\n",
            "Requirement already satisfied: tzdata>=2022.7 in /home/codespace/.local/lib/python3.12/site-packages (from pandas>=1.4->arch) (2024.1)\n",
            "Requirement already satisfied: patsy>=0.5.6 in /usr/local/python/3.12.1/lib/python3.12/site-packages (from statsmodels>=0.12->arch) (0.5.6)\n",
            "Requirement already satisfied: packaging>=21.3 in /home/codespace/.local/lib/python3.12/site-packages (from statsmodels>=0.12->arch) (24.1)\n",
            "Requirement already satisfied: six in /home/codespace/.local/lib/python3.12/site-packages (from patsy>=0.5.6->statsmodels>=0.12->arch) (1.16.0)\n"
          ]
        }
      ],
      "source": [
        "!pip install arch\n",
        "\n",
        "from arch import arch_model"
      ]
    },
    {
      "cell_type": "code",
      "execution_count": null,
      "metadata": {
        "id": "4vChm1IU_fQO",
        "outputId": "fbda90a7-b824-4310-da99-69f02900dcdc"
      },
      "outputs": [
        {
          "name": "stdout",
          "output_type": "stream",
          "text": [
            "Iteration:      1,   Func. Count:      6,   Neg. LLF: 24533531.4143253\n",
            "Iteration:      2,   Func. Count:     16,   Neg. LLF: -370.8457761164025\n",
            "Optimization terminated successfully    (Exit mode 0)\n",
            "            Current function value: -370.84577620011356\n",
            "            Iterations: 6\n",
            "            Function evaluations: 16\n",
            "            Gradient evaluations: 2\n",
            "-7.088914745481049e-05\n",
            "0.012668075873532927\n"
          ]
        },
        {
          "name": "stderr",
          "output_type": "stream",
          "text": [
            "/home/codespace/.python/current/lib/python3.12/site-packages/arch/univariate/base.py:311: DataScaleWarning: y is poorly scaled, which may affect convergence of the optimizer when\n",
            "estimating the model parameters. The scale of y is 0.0001635. Parameter\n",
            "estimation work better when this value is between 1 and 1000. The recommended\n",
            "rescaling is 100 * y.\n",
            "\n",
            "This warning can be disabled by either rescaling y before initializing the\n",
            "model or by setting rescale=False.\n",
            "\n",
            "  warnings.warn(\n"
          ]
        }
      ],
      "source": [
        "# Ajustar el modelo GARCH(1,1)\n",
        "model = arch_model(Rendimientos_M.dropna(), vol='Garch', p=1, q=1)\n",
        "garch_fit = model.fit()\n",
        "\n",
        "# Obtener la media\n",
        "M_media_caso3 = garch_fit.params['mu']\n",
        "print(M_media_caso3)\n",
        "\n",
        "# Obtener la desviación estándar\n",
        "M_std_caso3 = garch_fit.conditional_volatility\n",
        "print(M_std_caso3.iloc[-1])"
      ]
    },
    {
      "cell_type": "code",
      "execution_count": null,
      "metadata": {
        "id": "EuUuExcB_fQO",
        "outputId": "ab8b8f37-2aff-4f04-b958-ce4f66b58a6f"
      },
      "outputs": [
        {
          "name": "stdout",
          "output_type": "stream",
          "text": [
            "29.024852675675902\n"
          ]
        }
      ],
      "source": [
        "# Media pérdidas\n",
        "\n",
        "M_media_perdidas_caso3= -V_t_M*M_media_caso3\n",
        "print(M_media_perdidas_caso3)"
      ]
    },
    {
      "cell_type": "code",
      "execution_count": null,
      "metadata": {
        "id": "geoKpo7e_fQO",
        "outputId": "5b410fdb-8e47-46fa-c320-d7c7ac692c2a"
      },
      "outputs": [
        {
          "name": "stdout",
          "output_type": "stream",
          "text": [
            "5186.8170109954735\n"
          ]
        }
      ],
      "source": [
        "# Desviación pérdidas\n",
        "M_desviacion_caso3 = V_t_M*M_std_caso3\n",
        "print(M_desviacion_caso3.iloc[-1])\n"
      ]
    },
    {
      "cell_type": "code",
      "execution_count": null,
      "metadata": {
        "id": "257xfJbS_fQO",
        "outputId": "1e827014-2a3b-41bd-eaaa-4024dc02a3d6"
      },
      "outputs": [
        {
          "name": "stdout",
          "output_type": "stream",
          "text": [
            "8560.579625545175\n"
          ]
        }
      ],
      "source": [
        "#VaR\n",
        "M_VaR_caso3 = M_media_perdidas_caso3 + z*M_desviacion_caso3\n",
        "print(M_VaR_caso3.iloc[-1])"
      ]
    },
    {
      "cell_type": "code",
      "execution_count": null,
      "metadata": {
        "id": "t1Qw6dEC_fQO",
        "outputId": "cee674cf-8f4f-4c68-ae97-c8d2d0baef1f"
      },
      "outputs": [
        {
          "name": "stdout",
          "output_type": "stream",
          "text": [
            "29.050983278026713\n"
          ]
        }
      ],
      "source": [
        "#ES\n",
        "M_ES_caso3 = M_media_perdidas_caso3 + M_std_caso3 * (np.exp(-z**2 / 2) / (np.sqrt(2 * np.pi) * (1 - alpha)))\n",
        "print(M_ES_caso3.iloc[-1])"
      ]
    },
    {
      "cell_type": "markdown",
      "metadata": {
        "id": "niWftyn9_fQO"
      },
      "source": [
        "# Repita el ejercicio anterior si, además de las acciones de Microsoft, se tienen 2550 acciones de NVidia."
      ]
    },
    {
      "cell_type": "code",
      "execution_count": null,
      "metadata": {
        "id": "0d-nZhKM_fQP"
      },
      "outputs": [],
      "source": [
        "# se carga la base de datos\n",
        "\n",
        "NVidia =  pd.read_csv(r'NVDA.csv')"
      ]
    },
    {
      "cell_type": "code",
      "execution_count": null,
      "metadata": {
        "id": "CG_J9FdV_fQP",
        "outputId": "37eb0b69-70ab-4ec7-e37e-f62d828aa8e1"
      },
      "outputs": [
        {
          "data": {
            "text/plain": [
              "0           NaN\n",
              "1      0.008493\n",
              "2      0.031331\n",
              "3      0.043774\n",
              "4     -0.057075\n",
              "         ...   \n",
              "122    0.014445\n",
              "123   -0.021189\n",
              "124   -0.065978\n",
              "125    0.015024\n",
              "126   -0.100097\n",
              "Name: Close, Length: 127, dtype: float64"
            ]
          },
          "execution_count": 58,
          "metadata": {},
          "output_type": "execute_result"
        }
      ],
      "source": [
        "# se obtienen los rendimientos\n",
        "Rendimientos_N = np.log(NVidia[\"Close\"] / NVidia[\"Close\"].shift(1))\n",
        "Rendimientos_N"
      ]
    },
    {
      "cell_type": "markdown",
      "metadata": {
        "id": "qdL0B6eo_fQP"
      },
      "source": [
        "### Caso 1: Estimador usual"
      ]
    },
    {
      "cell_type": "code",
      "execution_count": null,
      "metadata": {
        "id": "n8g6g2To_fQP",
        "outputId": "dfeaa2f6-20bd-4608-8a6c-ff563a8aec82"
      },
      "outputs": [
        {
          "name": "stdout",
          "output_type": "stream",
          "text": [
            "-0.004481125707935915\n",
            "-0.0018940466279149387\n",
            "0.0018785366290270163\n"
          ]
        }
      ],
      "source": [
        "#se define una ventana móvil para el cálculo de la media y la varianza de los rendimientos\n",
        "N_media_30_caso1 = Rendimientos_N.rolling(30).mean()\n",
        "N_media_60_caso1 = Rendimientos_N.rolling(60).mean()\n",
        "N_media_caso1 = Rendimientos_N.mean()\n",
        "print(N_media_30_caso1.iloc[-1])\n",
        "print(N_media_60_caso1.iloc[-1])\n",
        "print(N_media_caso1)"
      ]
    },
    {
      "cell_type": "code",
      "execution_count": null,
      "metadata": {
        "id": "YyQgaIkD_fQP",
        "outputId": "f7f72746-82aa-4e99-ced3-1a8474d4812a"
      },
      "outputs": [
        {
          "name": "stdout",
          "output_type": "stream",
          "text": [
            "0.04951060984489657\n",
            "0.04190632296081505\n",
            "0.03744769177985934\n"
          ]
        }
      ],
      "source": [
        "N_std_30_caso1 = Rendimientos_N.rolling(30).std()\n",
        "N_std_60_caso1 = Rendimientos_N.rolling(60).std()\n",
        "N_std_caso1 = Rendimientos_N.std()\n",
        "print(N_std_30_caso1.iloc[-1])\n",
        "print(N_std_60_caso1.iloc[-1])\n",
        "print(N_std_caso1)"
      ]
    },
    {
      "cell_type": "code",
      "execution_count": null,
      "metadata": {
        "id": "5nvIDfQI_fQQ",
        "outputId": "5175f4c9-ab55-43b2-8f5c-409737cec350"
      },
      "outputs": [
        {
          "name": "stdout",
          "output_type": "stream",
          "text": [
            "275400.0\n"
          ]
        }
      ],
      "source": [
        "# Monto actual de inversión\n",
        "V_t_N =  2550*NVidia[\"Close\"].iloc[-1]\n",
        "print(V_t_N)"
      ]
    },
    {
      "cell_type": "code",
      "execution_count": null,
      "metadata": {
        "id": "OpbzX6e8_fQQ",
        "outputId": "b6190731-2188-41b8-95a1-caa741172b88"
      },
      "outputs": [
        {
          "name": "stdout",
          "output_type": "stream",
          "text": [
            "2307.434626294863\n",
            "768.4357583733241\n",
            "-474.14531861252993\n"
          ]
        }
      ],
      "source": [
        "#Media pérdidas\n",
        "\n",
        "media_perdidas_30_caso1 = -V_t_M*M_media_30_caso1 -V_t_N*N_media_30_caso1\n",
        "media_perdidas_60_caso1 = -V_t_M*M_media_60_caso1 -V_t_N*N_media_60_caso1\n",
        "media_perdidas_caso1 = -V_t_M*M_media_caso1 -V_t_N*N_media_caso1\n",
        "print(media_perdidas_30_caso1.iloc[-1])\n",
        "print(media_perdidas_60_caso1.iloc[-1])\n",
        "print(media_perdidas_caso1)"
      ]
    },
    {
      "cell_type": "code",
      "execution_count": null,
      "metadata": {
        "id": "-MujqUS0_fQQ",
        "outputId": "1cc07e14-ee94-4e8f-aeb8-4571491fc10d"
      },
      "outputs": [
        {
          "name": "stdout",
          "output_type": "stream",
          "text": [
            "0.4299680447008907\n"
          ]
        }
      ],
      "source": [
        "# correlación\n",
        "correlacion = np.corrcoef(Rendimientos_M[1:], Rendimientos_N[1:])[0,1]\n",
        "print(correlacion)"
      ]
    },
    {
      "cell_type": "code",
      "execution_count": null,
      "metadata": {
        "id": "DvzlOptX_fQQ",
        "outputId": "5bc3f3a0-2d9e-48db-e905-be864fd67c9b"
      },
      "outputs": [
        {
          "name": "stdout",
          "output_type": "stream",
          "text": [
            "52709.19361098396\n",
            "48884.22531587317\n",
            "47540.33289554641\n"
          ]
        }
      ],
      "source": [
        "# desviacion perdidas\n",
        "import math\n",
        "\n",
        "factor = M_std_30_caso1.iloc[-1] * N_std_30_caso1.iloc[-1]\n",
        "\n",
        "# Calcular la desviación estándar de pérdidas\n",
        "std_perdidas_30_caso_1 = math.sqrt(\n",
        "    (V_t_M**2) * (M_std_30_caso1.iloc[-1]**2) +\n",
        "    (V_t_N**2) * (N_std_30_caso1.iloc[-1]**2) +\n",
        "    2 * correlacion * V_t_M * V_t_N * factor\n",
        ")\n",
        "\n",
        "print(std_perdidas_30_caso_1)\n",
        "\n",
        "factor = M_std_60_caso1.iloc[-1] * N_std_60_caso1.iloc[-1]\n",
        "\n",
        "std_perdidas_60_caso_1 = math.sqrt(\n",
        "    (V_t_M**2) * (M_std_60_caso1.iloc[-1]**2) +\n",
        "    (V_t_N**2) * (N_std_60_caso1.iloc[-1]**2) +\n",
        "    2 * correlacion * V_t_M * V_t_N * factor\n",
        ")\n",
        "\n",
        "print(std_perdidas_60_caso_1)\n",
        "\n",
        "\n",
        "factor = M_std_caso1 * N_std_caso1\n",
        "\n",
        "std_perdidas_caso_1 = math.sqrt(\n",
        "    (V_t_M**2) * (M_std_caso1**2) +\n",
        "    (V_t_N**2) * (N_std_caso1**2) +\n",
        "    2 * correlacion * V_t_M * V_t_N * factor\n",
        ")\n",
        "\n",
        "print(std_perdidas_caso_1)\n",
        "\n"
      ]
    },
    {
      "cell_type": "code",
      "execution_count": null,
      "metadata": {
        "id": "EsH8xmh3_fQR",
        "outputId": "71898f37-506c-4946-cca2-0029d181d48b"
      },
      "outputs": [
        {
          "name": "stdout",
          "output_type": "stream",
          "text": [
            "89006.3429110092\n",
            "81175.83106990028\n",
            "77722.74367110737\n"
          ]
        }
      ],
      "source": [
        "#VaR\n",
        "VaR_30_caso1 = media_perdidas_30_caso1 + z*std_perdidas_30_caso_1\n",
        "VaR_60_caso1 = media_perdidas_60_caso1 + z*std_perdidas_60_caso_1\n",
        "VaR_caso1 = media_perdidas_caso1 +z*std_perdidas_caso_1\n",
        "print(VaR_30_caso1.iloc[-1])\n",
        "print(VaR_60_caso1.iloc[-1])\n",
        "print(VaR_caso1)"
      ]
    },
    {
      "cell_type": "code",
      "execution_count": null,
      "metadata": {
        "id": "vGyIOm69_fQR",
        "outputId": "d4c94ce5-e9f4-4cd4-9ea5-c5d4ac9f3313"
      },
      "outputs": [
        {
          "name": "stdout",
          "output_type": "stream",
          "text": [
            "111031.36336106005\n",
            "101602.55340250365\n",
            "97587.90821819763\n"
          ]
        }
      ],
      "source": [
        "#ES\n",
        "ES_30_caso1 = media_perdidas_30_caso1 + std_perdidas_30_caso_1 * (np.exp(-z**2 / 2) / (np.sqrt(2 * np.pi) * (1 - alpha)))\n",
        "ES_60_caso1 = media_perdidas_60_caso1 + std_perdidas_60_caso_1 * (np.exp(-z**2 / 2) / (np.sqrt(2 * np.pi) * (1 - alpha)))\n",
        "ES_caso1 = media_perdidas_caso1 + std_perdidas_caso_1 * (np.exp(-z**2 / 2) / (np.sqrt(2 * np.pi) * (1 - alpha)))\n",
        "print(ES_30_caso1.iloc[-1])\n",
        "print(ES_60_caso1.iloc[-1])\n",
        "print(ES_caso1)"
      ]
    },
    {
      "cell_type": "markdown",
      "metadata": {
        "id": "LPu7ohVT_fQS"
      },
      "source": [
        "# Caso 2: EWMA"
      ]
    },
    {
      "cell_type": "code",
      "execution_count": null,
      "metadata": {
        "id": "7PBqz0vo_fQS",
        "outputId": "0d30629f-48da-4c82-8ba3-4ad8a92ffe87"
      },
      "outputs": [
        {
          "name": "stdout",
          "output_type": "stream",
          "text": [
            "-0.010503768703750062\n",
            "0.04847922477394599\n"
          ]
        }
      ],
      "source": [
        "#Media y desviación\n",
        "N_media_caso2 = Rendimientos_N.ewm(span=20,adjust=False).mean()\n",
        "N_std_caso2 = Rendimientos_N.ewm(span=20,adjust=False).std()\n",
        "print(N_media_caso2.iloc[-1])\n",
        "print(N_std_caso2.iloc[-1])"
      ]
    },
    {
      "cell_type": "code",
      "execution_count": null,
      "metadata": {
        "id": "w-CfEeVF_fQS",
        "outputId": "1395aaab-8653-4814-d490-edf9945905b3"
      },
      "outputs": [
        {
          "name": "stdout",
          "output_type": "stream",
          "text": [
            "3595.724386052597\n"
          ]
        }
      ],
      "source": [
        "#Media pérdidas\n",
        "\n",
        "media_perdidas_caso2 = -V_t_M*M_media_caso2 -V_t_N*N_media_caso2\n",
        "print(media_perdidas_caso2.iloc[-1])"
      ]
    },
    {
      "cell_type": "code",
      "execution_count": null,
      "metadata": {
        "id": "JcDJCKja_fQS",
        "outputId": "897d7bb9-2454-4d15-9950-7dfc373826ad"
      },
      "outputs": [
        {
          "name": "stdout",
          "output_type": "stream",
          "text": [
            "50229.03799967118\n"
          ]
        }
      ],
      "source": [
        "# Desviación pérdidas\n",
        "factor = M_std_caso2.iloc[-1] * N_std_caso2.iloc[-1]\n",
        "\n",
        "# Calcular la desviación estándar de pérdidas\n",
        "std_perdidas_caso2 = math.sqrt(\n",
        "    (V_t_M**2) * (M_std_caso2.iloc[-1]**2) +\n",
        "    (V_t_N**2) * (N_std_caso2.iloc[-1]**2) +\n",
        "    2 * correlacion * V_t_M * V_t_N * factor\n",
        ")\n",
        "\n",
        "print(std_perdidas_caso2)"
      ]
    },
    {
      "cell_type": "code",
      "execution_count": null,
      "metadata": {
        "id": "rXyIKTDU_fQS",
        "outputId": "2ed55abd-1434-499f-f06a-f504391d8543"
      },
      "outputs": [
        {
          "name": "stdout",
          "output_type": "stream",
          "text": [
            "86215.13971809504\n"
          ]
        }
      ],
      "source": [
        "#VaR\n",
        "VaR_caso2 = media_perdidas_caso2+ z*std_perdidas_caso2\n",
        "print(VaR_caso2.iloc[-1])\n"
      ]
    },
    {
      "cell_type": "code",
      "execution_count": null,
      "metadata": {
        "id": "5VRdH6Xd_fQS",
        "outputId": "939b594f-2ff1-4aae-bedd-015bb2c0b964"
      },
      "outputs": [
        {
          "name": "stdout",
          "output_type": "stream",
          "text": [
            "107203.8043767515\n"
          ]
        }
      ],
      "source": [
        "#ES\n",
        "ES_caso2 = media_perdidas_caso2 + std_perdidas_caso2 * (np.exp(-z**2 / 2) / (np.sqrt(2 * np.pi) * (1 - alpha)))\n",
        "print(ES_caso2.iloc[-1])"
      ]
    },
    {
      "cell_type": "markdown",
      "metadata": {
        "id": "-8N4gHHv_fQS"
      },
      "source": [
        "# Caso 3: GARCH(1,1)"
      ]
    },
    {
      "cell_type": "code",
      "execution_count": null,
      "metadata": {
        "id": "BD85MNEe_fQT",
        "outputId": "9b89b78e-c546-442a-8c8a-c961a9b6c005"
      },
      "outputs": [
        {
          "name": "stdout",
          "output_type": "stream",
          "text": [
            "Iteration:      1,   Func. Count:      6,   Neg. LLF: 24533531.4143253\n",
            "Iteration:      2,   Func. Count:     16,   Neg. LLF: -370.8457761164025\n",
            "Optimization terminated successfully    (Exit mode 0)\n",
            "            Current function value: -370.84577620011356\n",
            "            Iterations: 6\n",
            "            Function evaluations: 16\n",
            "            Gradient evaluations: 2\n",
            "-7.088914745481049e-05\n",
            "0.012668075873532927\n"
          ]
        },
        {
          "name": "stderr",
          "output_type": "stream",
          "text": [
            "/home/codespace/.python/current/lib/python3.12/site-packages/arch/univariate/base.py:311: DataScaleWarning: y is poorly scaled, which may affect convergence of the optimizer when\n",
            "estimating the model parameters. The scale of y is 0.0001635. Parameter\n",
            "estimation work better when this value is between 1 and 1000. The recommended\n",
            "rescaling is 100 * y.\n",
            "\n",
            "This warning can be disabled by either rescaling y before initializing the\n",
            "model or by setting rescale=False.\n",
            "\n",
            "  warnings.warn(\n"
          ]
        }
      ],
      "source": [
        "# Ajustar el modelo GARCH(1,1)\n",
        "model_N = arch_model(Rendimientos_N.dropna(), vol='Garch', p=1, q=1)\n",
        "garch_fit_N = model.fit()\n",
        "\n",
        "# Obtener la media\n",
        "N_media_caso3 = garch_fit_N.params['mu']\n",
        "print(N_media_caso3)\n",
        "\n",
        "# Obtener la desviación estándar\n",
        "N_std_caso3 = garch_fit_N.conditional_volatility\n",
        "print(N_std_caso3.iloc[-1])"
      ]
    },
    {
      "cell_type": "code",
      "execution_count": null,
      "metadata": {
        "id": "Oamsc5Kg_fQT",
        "outputId": "164e50e9-7c96-4248-edfe-6e933baa98bf"
      },
      "outputs": [
        {
          "name": "stdout",
          "output_type": "stream",
          "text": [
            "48.547723884730715\n"
          ]
        }
      ],
      "source": [
        "#Media pérdidas\n",
        "\n",
        "media_perdidas_caso3 = -V_t_M*M_media_caso3 -V_t_N*N_media_caso3\n",
        "print(media_perdidas_caso3)"
      ]
    },
    {
      "cell_type": "code",
      "execution_count": null,
      "metadata": {
        "id": "TVZ7juD5_fQT",
        "outputId": "60107102-7a75-4ebd-d022-396a7c2d16b9"
      },
      "outputs": [
        {
          "name": "stdout",
          "output_type": "stream",
          "text": [
            "50229.03799967118\n"
          ]
        }
      ],
      "source": [
        "factor = M_std_caso3.iloc[-1] * N_std_caso3.iloc[-1]\n",
        "\n",
        "# Calcular la desviación estándar de pérdidas\n",
        "std_perdidas_caso3 = math.sqrt(\n",
        "    (V_t_M**2) * (M_std_caso3.iloc[-1]**2) +\n",
        "    (V_t_N**2) * (N_std_caso3.iloc[-1]**2) +\n",
        "    2 * correlacion * V_t_M * V_t_N * factor\n",
        ")\n",
        "\n",
        "print(std_perdidas_caso2)"
      ]
    },
    {
      "cell_type": "code",
      "execution_count": null,
      "metadata": {
        "id": "Kfu2uIgy_fQT",
        "outputId": "51d1e355-4f3f-44c7-a077-792793e87130"
      },
      "outputs": [
        {
          "name": "stdout",
          "output_type": "stream",
          "text": [
            "58607.41385416143\n"
          ]
        }
      ],
      "source": [
        "#VaR\n",
        "VaR_caso3 = media_perdidas_caso3+ z*std_perdidas_caso3\n",
        "print(VaR_caso3)"
      ]
    },
    {
      "cell_type": "code",
      "execution_count": null,
      "metadata": {
        "id": "vqH_yD1i_fQT",
        "outputId": "177053e2-023c-45de-e999-1395d1ada16d"
      },
      "outputs": [
        {
          "name": "stdout",
          "output_type": "stream",
          "text": [
            "73483.72832649175\n"
          ]
        }
      ],
      "source": [
        "#ES\n",
        "ES_caso3 = media_perdidas_caso3 + std_perdidas_caso3 * (np.exp(-z**2 / 2) / (np.sqrt(2 * np.pi) * (1 - alpha)))\n",
        "print(ES_caso3)"
      ]
    }
  ],
  "metadata": {
    "kernelspec": {
      "display_name": "Python 3",
      "language": "python",
      "name": "python3"
    },
    "language_info": {
      "codemirror_mode": {
        "name": "ipython",
        "version": 3
      },
      "file_extension": ".py",
      "mimetype": "text/x-python",
      "name": "python",
      "nbconvert_exporter": "python",
      "pygments_lexer": "ipython3",
      "version": "3.12.1"
    },
    "colab": {
      "provenance": []
    }
  },
  "nbformat": 4,
  "nbformat_minor": 0
}