{
 "cells": [
  {
   "cell_type": "markdown",
   "metadata": {},
   "source": [
    "# María Carolina Navarro Monge\n",
    "# Caso 2"
   ]
  },
  {
   "cell_type": "markdown",
   "metadata": {},
   "source": [
    "## Un portafolio de inversión consiste de 1000 acciones de Microsoft. Use el enfoque paramétrico para estimar el riesgo del portafolio a través del VaR y el ES . Compare los resultados cuando se emplean los métodos siguientes para calcular la volatilidad: el estimador clásico insesgado, el estimador EWMA y el estimador GARCH."
   ]
  },
  {
   "cell_type": "code",
   "execution_count": 73,
   "metadata": {},
   "outputs": [],
   "source": [
    "# se carga la base de datos\n",
    "\n",
    "import pandas as pd\n",
    "\n",
    "Microsoft =  pd.read_csv(r'MSFT.csv')"
   ]
  },
  {
   "cell_type": "code",
   "execution_count": 74,
   "metadata": {},
   "outputs": [
    {
     "data": {
      "text/plain": [
       "0           NaN\n",
       "1     -0.030018\n",
       "2     -0.001392\n",
       "3      0.017381\n",
       "4     -0.007163\n",
       "         ...   \n",
       "122    0.000846\n",
       "123   -0.007860\n",
       "124    0.006119\n",
       "125    0.009684\n",
       "126   -0.018632\n",
       "Name: Close, Length: 127, dtype: float64"
      ]
     },
     "execution_count": 74,
     "metadata": {},
     "output_type": "execute_result"
    }
   ],
   "source": [
    "import numpy as np\n",
    "#se obtienen los rendimientos \n",
    "\n",
    "Rendimientos_M = np.log(Microsoft[\"Close\"] / Microsoft[\"Close\"].shift(1))\n",
    "Rendimientos_M"
   ]
  },
  {
   "cell_type": "markdown",
   "metadata": {},
   "source": [
    "## Cálculo VaR y ES"
   ]
  },
  {
   "cell_type": "markdown",
   "metadata": {},
   "source": [
    "Suponiendo que los rendimientos poseen una distribución normal, el VaR y ES se obtienen a partir de las siguientes fórmulas\n",
    "\n",
    "$$VaR = \\mu_L + z_\\alpha\\cdot\\sigma_L$$\n",
    "$$ES = \\mu_L + \\sigma\\cdot\\dfrac{\\exp(\\dfrac{-z^2_\\alpha}{2})}{\\sqrt(2\\pi)(1-\\alpha)}$$\n",
    "\n",
    "\n",
    "donde $\\mu_L = -V_t\\cdot\\mu_{R_{t+1}}$, $\\sigma_L = V_t\\cdot\\sigma_{R_{t+1}}$, $V_t=N\\cdot S_t$, $z_\\alpha = \\Phi^{-1}(\\alpha)$\n",
    "\n",
    "\n",
    "Se calcularán el VarR y ES al 95%. \n",
    "\n",
    "Se obtendrá la media y desviación de los rendimientos empleando una ventana móvil de 30 y 60 para comparar los resultados."
   ]
  },
  {
   "cell_type": "markdown",
   "metadata": {},
   "source": [
    "### Caso 1: estimador insesgado usual\n",
    "\n",
    "$$\\mu_R = \\dfrac{1}{m}\\sum_{i = 1}^m R_{t-i}$$\n",
    "$$\\sigma^2_R = \\dfrac{1}{m}\\sum_{i = 1}^m (R_{t-i}-\\mu_R)^2$$"
   ]
  },
  {
   "cell_type": "code",
   "execution_count": 75,
   "metadata": {},
   "outputs": [
    {
     "name": "stdout",
     "output_type": "stream",
     "text": [
      "-0.0026214649303594718\n",
      "-0.0006028119280967327\n",
      "-0.0001055189253870471\n"
     ]
    }
   ],
   "source": [
    "#se define una ventana móvil para el cálculo de la media y la varianza de los rendimientos\n",
    "M_media_30_caso1 = Rendimientos_M.rolling(30).mean()\n",
    "M_media_60_caso1 = Rendimientos_M.rolling(60).mean()\n",
    "M_media_caso1 = Rendimientos_M.mean()\n",
    "print(M_media_30_caso1.iloc[-1])\n",
    "print(M_media_60_caso1.iloc[-1])\n",
    "print(M_media_caso1)"
   ]
  },
  {
   "cell_type": "code",
   "execution_count": 76,
   "metadata": {},
   "outputs": [
    {
     "name": "stdout",
     "output_type": "stream",
     "text": [
      "0.014068745951918187\n",
      "0.012618386981224404\n",
      "0.012838045221790764\n"
     ]
    }
   ],
   "source": [
    "M_std_30_caso1 = Rendimientos_M.rolling(30).std()\n",
    "M_std_60_caso1 = Rendimientos_M.rolling(60).std()\n",
    "M_std_caso1 = Rendimientos_M.std()\n",
    "print(M_std_30_caso1.iloc[-1])\n",
    "print(M_std_60_caso1.iloc[-1])\n",
    "print(M_std_caso1)"
   ]
  },
  {
   "cell_type": "code",
   "execution_count": 77,
   "metadata": {},
   "outputs": [
    {
     "name": "stdout",
     "output_type": "stream",
     "text": [
      "1.6448536269514722\n"
     ]
    }
   ],
   "source": [
    "from scipy.stats import norm\n",
    "\n",
    "alpha = 0.95\n",
    "\n",
    "#cuantil\n",
    "z = norm.ppf(0.95)\n",
    "print(z)"
   ]
  },
  {
   "cell_type": "code",
   "execution_count": 78,
   "metadata": {},
   "outputs": [
    {
     "name": "stdout",
     "output_type": "stream",
     "text": [
      "409440.002\n"
     ]
    }
   ],
   "source": [
    "# Monto actual de inversión\n",
    "V_t_M = 1000*Microsoft[\"Close\"].iloc[-1]\n",
    "print(V_t_M)"
   ]
  },
  {
   "cell_type": "code",
   "execution_count": 79,
   "metadata": {},
   "outputs": [
    {
     "name": "stdout",
     "output_type": "stream",
     "text": [
      "-5760.307370690874\n",
      "-5166.4723908292935\n",
      "43.203669021510414\n"
     ]
    }
   ],
   "source": [
    "#Media pérdidas\n",
    "\n",
    "M_media_perdidas_30_caso1 = -V_t_M*M_std_30_caso1\n",
    "M_media_perdidas_60_caso1 = -V_t_M*M_std_60_caso1\n",
    "M_media_perdidas_caso1 = -V_t_M*M_media_caso1\n",
    "print(M_media_perdidas_30_caso1.iloc[-1])\n",
    "print(M_media_perdidas_60_caso1.iloc[-1])\n",
    "print(M_media_perdidas_caso1)"
   ]
  },
  {
   "cell_type": "code",
   "execution_count": 80,
   "metadata": {},
   "outputs": [
    {
     "name": "stdout",
     "output_type": "stream",
     "text": [
      "5760.307370690874\n",
      "5166.4723908292935\n",
      "5256.4092612861\n"
     ]
    }
   ],
   "source": [
    "# Desviación pérdidas\n",
    "M_desviacion_30_caso1 = V_t_M*M_std_30_caso1\n",
    "M_desviacion_60_caso1 = V_t_M*M_std_60_caso1\n",
    "M_desviacion_caso1 = V_t_M*M_std_caso1\n",
    "print(M_desviacion_30_caso1.iloc[-1])\n",
    "print(M_desviacion_60_caso1.iloc[-1])\n",
    "print(M_desviacion_caso1)"
   ]
  },
  {
   "cell_type": "code",
   "execution_count": 81,
   "metadata": {},
   "outputs": [
    {
     "name": "stdout",
     "output_type": "stream",
     "text": [
      "3714.5551003453093\n",
      "3331.6184597709134\n",
      "8689.227507189262\n"
     ]
    }
   ],
   "source": [
    "#VaR\n",
    "M_VaR_30_caso1 = M_media_perdidas_30_caso1 + z*M_desviacion_30_caso1\n",
    "M_VaR_60_caso1 = M_media_perdidas_60_caso1 + z*M_desviacion_60_caso1\n",
    "M_VaR_caso1 = M_media_perdidas_caso1 +z*M_desviacion_caso1\n",
    "print(M_VaR_30_caso1.iloc[-1])\n",
    "print(M_VaR_60_caso1.iloc[-1])\n",
    "print(M_VaR_caso1)\n",
    "\n"
   ]
  },
  {
   "cell_type": "code",
   "execution_count": 82,
   "metadata": {},
   "outputs": [
    {
     "name": "stdout",
     "output_type": "stream",
     "text": [
      "-5760.278350908414\n",
      "-5166.446362720857\n",
      "43.230150221812764\n"
     ]
    }
   ],
   "source": [
    "#ES \n",
    "M_ES_30_caso1 = M_media_perdidas_30_caso1 + M_std_30_caso1 * (np.exp(-z**2 / 2) / (np.sqrt(2 * np.pi) * (1 - alpha)))\n",
    "M_ES_60_caso1 = M_media_perdidas_60_caso1 + M_std_60_caso1 * (np.exp(-z**2 / 2) / (np.sqrt(2 * np.pi) * (1 - alpha)))\n",
    "M_ES_caso1 = M_media_perdidas_caso1 + M_std_caso1 * (np.exp(-z**2 / 2) / (np.sqrt(2 * np.pi) * (1 - alpha)))\n",
    "print(M_ES_30_caso1.iloc[-1])\n",
    "print(M_ES_60_caso1.iloc[-1])\n",
    "print(M_ES_caso1)"
   ]
  },
  {
   "cell_type": "markdown",
   "metadata": {},
   "source": [
    "### Caso 2: Estimador EWMA"
   ]
  },
  {
   "cell_type": "markdown",
   "metadata": {},
   "source": [
    "$$\\sigma^2_R = \\dfrac{1-\\lambda}{1-\\lambda^m}\\sum_{i = 1}^m \\lambda^{i-1}(R_{t-i}-\\mu_R)^2$$"
   ]
  },
  {
   "cell_type": "code",
   "execution_count": 83,
   "metadata": {},
   "outputs": [
    {
     "name": "stdout",
     "output_type": "stream",
     "text": [
      "-0.0017169462719957432\n",
      "0.011821083931285555\n"
     ]
    }
   ],
   "source": [
    "M_media_caso2 = Rendimientos_M.ewm(span=20,adjust=False).mean()\n",
    "M_std_caso2 = Rendimientos_M.ewm(span=20,adjust=False).std()\n",
    "print(M_media_caso2.iloc[-1])\n",
    "print(M_std_caso2.iloc[-1])\n"
   ]
  },
  {
   "cell_type": "code",
   "execution_count": 84,
   "metadata": {},
   "outputs": [
    {
     "name": "stdout",
     "output_type": "stream",
     "text": [
      "702.9864850398296\n"
     ]
    }
   ],
   "source": [
    "# Media pérdidas\n",
    "\n",
    "M_media_perdidas_caso2= -V_t_M*M_media_caso2\n",
    "print(M_media_perdidas_caso2.iloc[-1])\n"
   ]
  },
  {
   "cell_type": "code",
   "execution_count": 85,
   "metadata": {},
   "outputs": [
    {
     "name": "stdout",
     "output_type": "stream",
     "text": [
      "4840.024628467725\n"
     ]
    }
   ],
   "source": [
    "# Desviación pérdidas\n",
    "M_desviacion_caso2 = V_t_M*M_std_caso2\n",
    "print(M_desviacion_caso2.iloc[-1])"
   ]
  },
  {
   "cell_type": "code",
   "execution_count": 86,
   "metadata": {},
   "outputs": [
    {
     "name": "stdout",
     "output_type": "stream",
     "text": [
      "8664.11854970942\n"
     ]
    }
   ],
   "source": [
    "#VaR\n",
    "M_VaR_caso2 = M_media_perdidas_caso2+ z*M_desviacion_caso2\n",
    "print(M_VaR_caso2.iloc[-1])"
   ]
  },
  {
   "cell_type": "code",
   "execution_count": 87,
   "metadata": {},
   "outputs": [
    {
     "name": "stdout",
     "output_type": "stream",
     "text": [
      "29.050983278026713\n"
     ]
    }
   ],
   "source": [
    "#ES \n",
    "M_ES_caso2 = M_media_perdidas_caso2 + M_std_caso2 * (np.exp(-z**2 / 2) / (np.sqrt(2 * np.pi) * (1 - alpha)))\n",
    "print(ES.iloc[-1])"
   ]
  },
  {
   "cell_type": "markdown",
   "metadata": {},
   "source": [
    "### Caso 3: GARCH(1,1)"
   ]
  },
  {
   "cell_type": "code",
   "execution_count": 88,
   "metadata": {},
   "outputs": [
    {
     "name": "stdout",
     "output_type": "stream",
     "text": [
      "Requirement already satisfied: arch in /usr/local/python/3.12.1/lib/python3.12/site-packages (7.0.0)\n",
      "Requirement already satisfied: numpy>=1.22.3 in /home/codespace/.local/lib/python3.12/site-packages (from arch) (2.0.1)\n",
      "Requirement already satisfied: scipy>=1.8 in /home/codespace/.local/lib/python3.12/site-packages (from arch) (1.14.0)\n",
      "Requirement already satisfied: pandas>=1.4 in /home/codespace/.local/lib/python3.12/site-packages (from arch) (2.2.2)\n",
      "Requirement already satisfied: statsmodels>=0.12 in /usr/local/python/3.12.1/lib/python3.12/site-packages (from arch) (0.14.2)\n",
      "Requirement already satisfied: python-dateutil>=2.8.2 in /home/codespace/.local/lib/python3.12/site-packages (from pandas>=1.4->arch) (2.9.0.post0)\n",
      "Requirement already satisfied: pytz>=2020.1 in /home/codespace/.local/lib/python3.12/site-packages (from pandas>=1.4->arch) (2024.1)\n",
      "Requirement already satisfied: tzdata>=2022.7 in /home/codespace/.local/lib/python3.12/site-packages (from pandas>=1.4->arch) (2024.1)\n",
      "Requirement already satisfied: patsy>=0.5.6 in /usr/local/python/3.12.1/lib/python3.12/site-packages (from statsmodels>=0.12->arch) (0.5.6)\n",
      "Requirement already satisfied: packaging>=21.3 in /home/codespace/.local/lib/python3.12/site-packages (from statsmodels>=0.12->arch) (24.1)\n",
      "Requirement already satisfied: six in /home/codespace/.local/lib/python3.12/site-packages (from patsy>=0.5.6->statsmodels>=0.12->arch) (1.16.0)\n"
     ]
    }
   ],
   "source": [
    "!pip install arch\n",
    "\n",
    "from arch import arch_model"
   ]
  },
  {
   "cell_type": "code",
   "execution_count": 89,
   "metadata": {},
   "outputs": [
    {
     "name": "stdout",
     "output_type": "stream",
     "text": [
      "Iteration:      1,   Func. Count:      6,   Neg. LLF: 24533531.4143253\n",
      "Iteration:      2,   Func. Count:     16,   Neg. LLF: -370.8457761164025\n",
      "Optimization terminated successfully    (Exit mode 0)\n",
      "            Current function value: -370.84577620011356\n",
      "            Iterations: 6\n",
      "            Function evaluations: 16\n",
      "            Gradient evaluations: 2\n",
      "-7.088914745481049e-05\n",
      "0.012668075873532927\n"
     ]
    },
    {
     "name": "stderr",
     "output_type": "stream",
     "text": [
      "/home/codespace/.python/current/lib/python3.12/site-packages/arch/univariate/base.py:311: DataScaleWarning: y is poorly scaled, which may affect convergence of the optimizer when\n",
      "estimating the model parameters. The scale of y is 0.0001635. Parameter\n",
      "estimation work better when this value is between 1 and 1000. The recommended\n",
      "rescaling is 100 * y.\n",
      "\n",
      "This warning can be disabled by either rescaling y before initializing the\n",
      "model or by setting rescale=False.\n",
      "\n",
      "  warnings.warn(\n"
     ]
    }
   ],
   "source": [
    "# Ajustar el modelo GARCH(1,1)\n",
    "model = arch_model(Rendimientos_M.dropna(), vol='Garch', p=1, q=1)\n",
    "garch_fit = model.fit()\n",
    "\n",
    "# Obtener la media\n",
    "M_media_caso3 = garch_fit.params['mu']\n",
    "print(M_media_caso3)\n",
    "\n",
    "# Obtener la desviación estándar\n",
    "M_std_caso3 = garch_fit.conditional_volatility\n",
    "print(M_std_caso3.iloc[-1])"
   ]
  },
  {
   "cell_type": "code",
   "execution_count": 90,
   "metadata": {},
   "outputs": [
    {
     "name": "stdout",
     "output_type": "stream",
     "text": [
      "29.024852675675902\n"
     ]
    }
   ],
   "source": [
    "# Media pérdidas\n",
    "\n",
    "M_media_perdidas_caso3= -V_t_M*M_media_caso3\n",
    "print(M_media_perdidas_caso3)"
   ]
  },
  {
   "cell_type": "code",
   "execution_count": 91,
   "metadata": {},
   "outputs": [
    {
     "name": "stdout",
     "output_type": "stream",
     "text": [
      "5186.8170109954735\n"
     ]
    }
   ],
   "source": [
    "# Desviación pérdidas\n",
    "M_desviacion_caso3 = V_t_M*M_std_caso3\n",
    "print(M_desviacion_caso3.iloc[-1])\n"
   ]
  },
  {
   "cell_type": "code",
   "execution_count": 92,
   "metadata": {},
   "outputs": [
    {
     "name": "stdout",
     "output_type": "stream",
     "text": [
      "8560.579625545175\n"
     ]
    }
   ],
   "source": [
    "#VaR\n",
    "M_VaR_caso3 = M_media_perdidas_caso3 + z*M_desviacion_caso3\n",
    "print(M_VaR_caso3.iloc[-1])"
   ]
  },
  {
   "cell_type": "code",
   "execution_count": 93,
   "metadata": {},
   "outputs": [
    {
     "name": "stdout",
     "output_type": "stream",
     "text": [
      "29.050983278026713\n"
     ]
    }
   ],
   "source": [
    "#ES \n",
    "M_ES_caso3 = M_media_perdidas_caso3 + M_std_caso3 * (np.exp(-z**2 / 2) / (np.sqrt(2 * np.pi) * (1 - alpha)))\n",
    "print(M_ES_caso3.iloc[-1])"
   ]
  },
  {
   "cell_type": "markdown",
   "metadata": {},
   "source": [
    "# Repita el ejercicio anterior si, además de las acciones de Microsoft, se tienen 2550 acciones de NVidia."
   ]
  },
  {
   "cell_type": "code",
   "execution_count": 94,
   "metadata": {},
   "outputs": [],
   "source": [
    "# se carga la base de datos\n",
    "\n",
    "NVidia =  pd.read_csv(r'NVDA.csv')"
   ]
  },
  {
   "cell_type": "code",
   "execution_count": 58,
   "metadata": {},
   "outputs": [
    {
     "data": {
      "text/plain": [
       "0           NaN\n",
       "1      0.008493\n",
       "2      0.031331\n",
       "3      0.043774\n",
       "4     -0.057075\n",
       "         ...   \n",
       "122    0.014445\n",
       "123   -0.021189\n",
       "124   -0.065978\n",
       "125    0.015024\n",
       "126   -0.100097\n",
       "Name: Close, Length: 127, dtype: float64"
      ]
     },
     "execution_count": 58,
     "metadata": {},
     "output_type": "execute_result"
    }
   ],
   "source": [
    "# se obtienen los rendimientos\n",
    "Rendimientos_N = np.log(NVidia[\"Close\"] / NVidia[\"Close\"].shift(1))\n",
    "Rendimientos_N"
   ]
  },
  {
   "cell_type": "markdown",
   "metadata": {},
   "source": [
    "### Caso 1: Estimador usual"
   ]
  },
  {
   "cell_type": "code",
   "execution_count": 95,
   "metadata": {},
   "outputs": [
    {
     "name": "stdout",
     "output_type": "stream",
     "text": [
      "-0.004481125707935915\n",
      "-0.0018940466279149387\n",
      "0.0018785366290270163\n"
     ]
    }
   ],
   "source": [
    "#se define una ventana móvil para el cálculo de la media y la varianza de los rendimientos\n",
    "N_media_30_caso1 = Rendimientos_N.rolling(30).mean()\n",
    "N_media_60_caso1 = Rendimientos_N.rolling(60).mean()\n",
    "N_media_caso1 = Rendimientos_N.mean()\n",
    "print(N_media_30_caso1.iloc[-1])\n",
    "print(N_media_60_caso1.iloc[-1])\n",
    "print(N_media_caso1)"
   ]
  },
  {
   "cell_type": "code",
   "execution_count": 96,
   "metadata": {},
   "outputs": [
    {
     "name": "stdout",
     "output_type": "stream",
     "text": [
      "0.04951060984489657\n",
      "0.04190632296081505\n",
      "0.03744769177985934\n"
     ]
    }
   ],
   "source": [
    "N_std_30_caso1 = Rendimientos_N.rolling(30).std()\n",
    "N_std_60_caso1 = Rendimientos_N.rolling(60).std()\n",
    "N_std_caso1 = Rendimientos_N.std()\n",
    "print(N_std_30_caso1.iloc[-1])\n",
    "print(N_std_60_caso1.iloc[-1])\n",
    "print(N_std_caso1)"
   ]
  },
  {
   "cell_type": "code",
   "execution_count": 97,
   "metadata": {},
   "outputs": [
    {
     "name": "stdout",
     "output_type": "stream",
     "text": [
      "275400.0\n"
     ]
    }
   ],
   "source": [
    "# Monto actual de inversión\n",
    "V_t_N =  2550*NVidia[\"Close\"].iloc[-1]\n",
    "print(V_t_N)"
   ]
  },
  {
   "cell_type": "code",
   "execution_count": 127,
   "metadata": {},
   "outputs": [
    {
     "name": "stdout",
     "output_type": "stream",
     "text": [
      "2307.434626294863\n",
      "768.4357583733241\n",
      "-474.14531861252993\n"
     ]
    }
   ],
   "source": [
    "#Media pérdidas\n",
    "\n",
    "media_perdidas_30_caso1 = -V_t_M*M_media_30_caso1 -V_t_N*N_media_30_caso1\n",
    "media_perdidas_60_caso1 = -V_t_M*M_media_60_caso1 -V_t_N*N_media_60_caso1\n",
    "media_perdidas_caso1 = -V_t_M*M_media_caso1 -V_t_N*N_media_caso1\n",
    "print(media_perdidas_30_caso1.iloc[-1])\n",
    "print(media_perdidas_60_caso1.iloc[-1])\n",
    "print(media_perdidas_caso1)"
   ]
  },
  {
   "cell_type": "code",
   "execution_count": 117,
   "metadata": {},
   "outputs": [
    {
     "name": "stdout",
     "output_type": "stream",
     "text": [
      "0.4299680447008907\n"
     ]
    }
   ],
   "source": [
    "# correlación\n",
    "correlacion = np.corrcoef(Rendimientos_M[1:], Rendimientos_N[1:])[0,1]\n",
    "print(correlacion)"
   ]
  },
  {
   "cell_type": "code",
   "execution_count": 124,
   "metadata": {},
   "outputs": [
    {
     "name": "stdout",
     "output_type": "stream",
     "text": [
      "52709.19361098396\n",
      "48884.22531587317\n",
      "47540.33289554641\n"
     ]
    }
   ],
   "source": [
    "# desviacion perdidas\n",
    "import math\n",
    "\n",
    "factor = math.sqrt(M_std_30_caso1.iloc[-1] * N_std_30_caso1.iloc[-1])\n",
    "\n",
    "# Calcular la desviación estándar de pérdidas\n",
    "std_perdidas_30_caso_1 = math.sqrt(\n",
    "    (V_t_M**2) * (M_std_30_caso1.iloc[-1]**2) +\n",
    "    (V_t_N**2) * (N_std_30_caso1.iloc[-1]**2) +\n",
    "    2 * correlacion * V_t_M * V_t_N * factor\n",
    ")\n",
    "\n",
    "print(std_perdidas_30_caso_1)\n",
    "\n",
    "factor = math.sqrt(M_std_60_caso1.iloc[-1] * N_std_60_caso1.iloc[-1])\n",
    "\n",
    "std_perdidas_60_caso_1 = math.sqrt(\n",
    "    (V_t_M**2) * (M_std_60_caso1.iloc[-1]**2) +\n",
    "    (V_t_N**2) * (N_std_60_caso1.iloc[-1]**2) +\n",
    "    2 * correlacion * V_t_M * V_t_N * factor\n",
    ")\n",
    "\n",
    "print(std_perdidas_60_caso_1)\n",
    "\n",
    "\n",
    "factor = math.sqrt(M_std_caso1 * N_std_caso1)\n",
    "\n",
    "std_perdidas_caso_1 = math.sqrt(\n",
    "    (V_t_M**2) * (M_std_caso1**2) +\n",
    "    (V_t_N**2) * (N_std_caso1**2) +\n",
    "    2 * correlacion * V_t_M * V_t_N * factor\n",
    ")\n",
    "\n",
    "print(std_perdidas_caso_1)\n",
    "\n"
   ]
  },
  {
   "cell_type": "code",
   "execution_count": 125,
   "metadata": {},
   "outputs": [
    {
     "name": "stdout",
     "output_type": "stream",
     "text": [
      "89006.3429110092\n",
      "81175.83106990028\n",
      "77722.74367110737\n"
     ]
    }
   ],
   "source": [
    "#VaR\n",
    "VaR_30_caso1 = media_perdidas_30_caso1 + z*std_perdidas_30_caso_1\n",
    "VaR_60_caso1 = media_perdidas_60_caso1 + z*std_perdidas_60_caso_1\n",
    "VaR_caso1 = media_perdidas_caso1 +z*std_perdidas_caso_1\n",
    "print(VaR_30_caso1.iloc[-1])\n",
    "print(VaR_60_caso1.iloc[-1])\n",
    "print(VaR_caso1)"
   ]
  },
  {
   "cell_type": "code",
   "execution_count": 126,
   "metadata": {},
   "outputs": [
    {
     "name": "stdout",
     "output_type": "stream",
     "text": [
      "111031.36336106005\n",
      "101602.55340250365\n",
      "97587.90821819763\n"
     ]
    }
   ],
   "source": [
    "#ES \n",
    "ES_30_caso1 = media_perdidas_30_caso1 + std_perdidas_30_caso_1 * (np.exp(-z**2 / 2) / (np.sqrt(2 * np.pi) * (1 - alpha)))\n",
    "ES_60_caso1 = media_perdidas_60_caso1 + std_perdidas_60_caso_1 * (np.exp(-z**2 / 2) / (np.sqrt(2 * np.pi) * (1 - alpha)))\n",
    "ES_caso1 = media_perdidas_caso1 + std_perdidas_caso_1 * (np.exp(-z**2 / 2) / (np.sqrt(2 * np.pi) * (1 - alpha)))\n",
    "print(ES_30_caso1.iloc[-1])\n",
    "print(ES_60_caso1.iloc[-1])\n",
    "print(ES_caso1)"
   ]
  },
  {
   "cell_type": "markdown",
   "metadata": {},
   "source": [
    "# Caso 2: EWMA"
   ]
  },
  {
   "cell_type": "code",
   "execution_count": 128,
   "metadata": {},
   "outputs": [
    {
     "name": "stdout",
     "output_type": "stream",
     "text": [
      "-0.010503768703750062\n",
      "0.04847922477394599\n"
     ]
    }
   ],
   "source": [
    "#Media y desviación\n",
    "N_media_caso2 = Rendimientos_N.ewm(span=20,adjust=False).mean()\n",
    "N_std_caso2 = Rendimientos_N.ewm(span=20,adjust=False).std()\n",
    "print(N_media_caso2.iloc[-1])\n",
    "print(N_std_caso2.iloc[-1])"
   ]
  },
  {
   "cell_type": "code",
   "execution_count": 129,
   "metadata": {},
   "outputs": [
    {
     "name": "stdout",
     "output_type": "stream",
     "text": [
      "3595.724386052597\n"
     ]
    }
   ],
   "source": [
    "#Media pérdidas\n",
    "\n",
    "media_perdidas_caso2 = -V_t_M*M_media_caso2 -V_t_N*N_media_caso2\n",
    "print(media_perdidas_caso2.iloc[-1])"
   ]
  },
  {
   "cell_type": "code",
   "execution_count": 130,
   "metadata": {},
   "outputs": [
    {
     "name": "stdout",
     "output_type": "stream",
     "text": [
      "50229.03799967118\n"
     ]
    }
   ],
   "source": [
    "# Desviación pérdidas\n",
    "factor = math.sqrt(M_std_caso2.iloc[-1] * N_std_caso2.iloc[-1])\n",
    "\n",
    "# Calcular la desviación estándar de pérdidas\n",
    "std_perdidas_caso2 = math.sqrt(\n",
    "    (V_t_M**2) * (M_std_caso2.iloc[-1]**2) +\n",
    "    (V_t_N**2) * (N_std_caso2.iloc[-1]**2) +\n",
    "    2 * correlacion * V_t_M * V_t_N * factor\n",
    ")\n",
    "\n",
    "print(std_perdidas_caso2)"
   ]
  },
  {
   "cell_type": "code",
   "execution_count": 131,
   "metadata": {},
   "outputs": [
    {
     "name": "stdout",
     "output_type": "stream",
     "text": [
      "86215.13971809504\n"
     ]
    }
   ],
   "source": [
    "#VaR\n",
    "VaR_caso2 = media_perdidas_caso2+ z*std_perdidas_caso2\n",
    "print(VaR_caso2.iloc[-1])\n"
   ]
  },
  {
   "cell_type": "code",
   "execution_count": 139,
   "metadata": {},
   "outputs": [
    {
     "name": "stdout",
     "output_type": "stream",
     "text": [
      "107203.8043767515\n"
     ]
    }
   ],
   "source": [
    "#ES \n",
    "ES_caso2 = media_perdidas_caso2 + std_perdidas_caso2 * (np.exp(-z**2 / 2) / (np.sqrt(2 * np.pi) * (1 - alpha)))\n",
    "print(ES_caso2.iloc[-1])"
   ]
  },
  {
   "cell_type": "markdown",
   "metadata": {},
   "source": [
    "# Caso 3: GARCH(1,1)"
   ]
  },
  {
   "cell_type": "code",
   "execution_count": 136,
   "metadata": {},
   "outputs": [
    {
     "name": "stdout",
     "output_type": "stream",
     "text": [
      "Iteration:      1,   Func. Count:      6,   Neg. LLF: 24533531.4143253\n",
      "Iteration:      2,   Func. Count:     16,   Neg. LLF: -370.8457761164025\n",
      "Optimization terminated successfully    (Exit mode 0)\n",
      "            Current function value: -370.84577620011356\n",
      "            Iterations: 6\n",
      "            Function evaluations: 16\n",
      "            Gradient evaluations: 2\n",
      "-7.088914745481049e-05\n",
      "0.012668075873532927\n"
     ]
    },
    {
     "name": "stderr",
     "output_type": "stream",
     "text": [
      "/home/codespace/.python/current/lib/python3.12/site-packages/arch/univariate/base.py:311: DataScaleWarning: y is poorly scaled, which may affect convergence of the optimizer when\n",
      "estimating the model parameters. The scale of y is 0.0001635. Parameter\n",
      "estimation work better when this value is between 1 and 1000. The recommended\n",
      "rescaling is 100 * y.\n",
      "\n",
      "This warning can be disabled by either rescaling y before initializing the\n",
      "model or by setting rescale=False.\n",
      "\n",
      "  warnings.warn(\n"
     ]
    }
   ],
   "source": [
    "# Ajustar el modelo GARCH(1,1)\n",
    "model_N = arch_model(Rendimientos_N.dropna(), vol='Garch', p=1, q=1)\n",
    "garch_fit_N = model.fit()\n",
    "\n",
    "# Obtener la media\n",
    "N_media_caso3 = garch_fit_N.params['mu']\n",
    "print(N_media_caso3)\n",
    "\n",
    "# Obtener la desviación estándar\n",
    "N_std_caso3 = garch_fit_N.conditional_volatility\n",
    "print(N_std_caso3.iloc[-1])"
   ]
  },
  {
   "cell_type": "code",
   "execution_count": 134,
   "metadata": {},
   "outputs": [
    {
     "name": "stdout",
     "output_type": "stream",
     "text": [
      "48.547723884730715\n"
     ]
    }
   ],
   "source": [
    "#Media pérdidas\n",
    "\n",
    "media_perdidas_caso3 = -V_t_M*M_media_caso3 -V_t_N*N_media_caso3\n",
    "print(media_perdidas_caso3)"
   ]
  },
  {
   "cell_type": "code",
   "execution_count": 137,
   "metadata": {},
   "outputs": [
    {
     "name": "stdout",
     "output_type": "stream",
     "text": [
      "50229.03799967118\n"
     ]
    }
   ],
   "source": [
    "factor = math.sqrt(M_std_caso3.iloc[-1] * N_std_caso3.iloc[-1])\n",
    "\n",
    "# Calcular la desviación estándar de pérdidas\n",
    "std_perdidas_caso3 = math.sqrt(\n",
    "    (V_t_M**2) * (M_std_caso3.iloc[-1]**2) +\n",
    "    (V_t_N**2) * (N_std_caso3.iloc[-1]**2) +\n",
    "    2 * correlacion * V_t_M * V_t_N * factor\n",
    ")\n",
    "\n",
    "print(std_perdidas_caso2)"
   ]
  },
  {
   "cell_type": "code",
   "execution_count": 141,
   "metadata": {},
   "outputs": [
    {
     "name": "stdout",
     "output_type": "stream",
     "text": [
      "58607.41385416143\n"
     ]
    }
   ],
   "source": [
    "#VaR\n",
    "VaR_caso3 = media_perdidas_caso3+ z*std_perdidas_caso3\n",
    "print(VaR_caso3)"
   ]
  },
  {
   "cell_type": "code",
   "execution_count": 143,
   "metadata": {},
   "outputs": [
    {
     "name": "stdout",
     "output_type": "stream",
     "text": [
      "73483.72832649175\n"
     ]
    }
   ],
   "source": [
    "#ES \n",
    "ES_caso3 = media_perdidas_caso3 + std_perdidas_caso3 * (np.exp(-z**2 / 2) / (np.sqrt(2 * np.pi) * (1 - alpha)))\n",
    "print(ES_caso3)"
   ]
  }
 ],
 "metadata": {
  "kernelspec": {
   "display_name": "Python 3",
   "language": "python",
   "name": "python3"
  },
  "language_info": {
   "codemirror_mode": {
    "name": "ipython",
    "version": 3
   },
   "file_extension": ".py",
   "mimetype": "text/x-python",
   "name": "python",
   "nbconvert_exporter": "python",
   "pygments_lexer": "ipython3",
   "version": "3.12.1"
  }
 },
 "nbformat": 4,
 "nbformat_minor": 2
}
